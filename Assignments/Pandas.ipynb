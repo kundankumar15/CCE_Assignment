{
 "cells": [
  {
   "cell_type": "markdown",
   "metadata": {},
   "source": [
    "### Data Exploration Exercises\n",
    "\n",
    "#### Task 1.1 - The goal of this exercise is to find the average age of celebrities who died February–July 2016\n",
    "\n",
    "<div>\n",
    "  <a href=\"https://colab.research.google.com/github/emharsha1812/CCE_Assignment/blob/main/Assignments/Pandas.ipynb\" target=\"_parent\">\n",
    "    <img src=\"https://colab.research.google.com/assets/colab-badge.svg\" alt=\"Open In Colab\"/>\n",
    "  </a>\n",
    "</div>\n",
    "\n",
    "1. Create a data frame from the file celebrity_deaths_2016.csv. For this exercise, we’ll use only two columns:\n",
    "–dateofdeath\n",
    "– age\n",
    "2. Create a new month column containing the month from the dateofdeath\n",
    "column.\n",
    "3. Make the month column the index of the data frame.\n",
    "4. Sort the data frame by the index.\n",
    "5. Clean all nonintegers from the age column.\n",
    "6. Turn the age column into an integer value.\n",
    "7. Find the average age of celebrities who died during that period"
   ]
  },
  {
   "cell_type": "code",
   "execution_count": 1,
   "metadata": {},
   "outputs": [
    {
     "name": "stdout",
     "output_type": "stream",
     "text": [
      "Collecting pandas\n",
      "  Downloading pandas-2.2.2-cp312-cp312-manylinux_2_17_x86_64.manylinux2014_x86_64.whl.metadata (19 kB)\n",
      "Requirement already satisfied: numpy>=1.26.0 in /workspaces/CCE_Assignment/.venv/lib/python3.12/site-packages (from pandas) (2.1.1)\n",
      "Requirement already satisfied: python-dateutil>=2.8.2 in /workspaces/CCE_Assignment/.venv/lib/python3.12/site-packages (from pandas) (2.9.0.post0)\n",
      "Collecting pytz>=2020.1 (from pandas)\n",
      "  Downloading pytz-2024.2-py2.py3-none-any.whl.metadata (22 kB)\n",
      "Collecting tzdata>=2022.7 (from pandas)\n",
      "  Downloading tzdata-2024.1-py2.py3-none-any.whl.metadata (1.4 kB)\n",
      "Requirement already satisfied: six>=1.5 in /workspaces/CCE_Assignment/.venv/lib/python3.12/site-packages (from python-dateutil>=2.8.2->pandas) (1.16.0)\n",
      "Downloading pandas-2.2.2-cp312-cp312-manylinux_2_17_x86_64.manylinux2014_x86_64.whl (12.7 MB)\n",
      "\u001b[2K   \u001b[90m━━━━━━━━━━━━━━━━━━━━━━━━━━━━━━━━━━━━━━━━\u001b[0m \u001b[32m12.7/12.7 MB\u001b[0m \u001b[31m60.6 MB/s\u001b[0m eta \u001b[36m0:00:00\u001b[0m:00:01\u001b[0m\n",
      "\u001b[?25hDownloading pytz-2024.2-py2.py3-none-any.whl (508 kB)\n",
      "Downloading tzdata-2024.1-py2.py3-none-any.whl (345 kB)\n",
      "Installing collected packages: pytz, tzdata, pandas\n",
      "Successfully installed pandas-2.2.2 pytz-2024.2 tzdata-2024.1\n"
     ]
    }
   ],
   "source": [
    "! pip install pandas"
   ]
  },
  {
   "cell_type": "code",
   "execution_count": 3,
   "metadata": {},
   "outputs": [
    {
     "name": "stdout",
     "output_type": "stream",
     "text": [
      "100.96033820138355\n"
     ]
    }
   ],
   "source": [
    "import pandas as pd\n",
    "import numpy as np\n",
    "\n",
    "# You are NOT required to change the code here\n",
    "# titanic_df=pd.read_csv('celebrity_deaths_2016.csv')\n",
    "titanic_df=pd.read_csv('https://raw.githubusercontent.com/emharsha1812/CCE_Assignment/main/dataset/celebrity_deaths_2016.csv')\n",
    "\n",
    "def calculate_average_age(df=titanic_df):\n",
    "    #TODO- Write your code here\n",
    "    '''Arguments -\n",
    "    titanic_df = The pandas dataframe that we loaded\n",
    "    \n",
    "    Returns\n",
    "    int : average_age\n",
    "    '''\n",
    "    df['age'] = pd.to_numeric(df['age'], errors='coerce')\n",
    "    average_age=df['age'].mean() \n",
    "    return average_age\n",
    "\n",
    "\n",
    "get_average_age_ans=calculate_average_age(titanic_df)\n",
    "print(get_average_age_ans)"
   ]
  },
  {
   "cell_type": "markdown",
   "metadata": {},
   "source": [
    "### Task 1.2 - The goal of this exercise is to group the data according to the below conditions\n",
    "1. Load the CSV file nyc_taxi_2019-01.csv into a data frame using only the columns passenger_count, trip_distance, and total_amount.\n",
    "2. Using a descending sort, find the average cost of the 20 longest (in distance) taxi rides in January 2019.\n",
    "3. Using an ascending sort, find the average cost of the 20 longest (in distance) taxi rides in January 2019. Are the results any different?\n",
    "4. Sort by ascending passenger count and descending trip distance. (So, start with the longest trip with 0 passengers and end with the shortest trip with 9 passengers.) What is the average price paid for the top 50 rides?\n"
   ]
  },
  {
   "cell_type": "code",
   "execution_count": 13,
   "metadata": {},
   "outputs": [],
   "source": [
    "# filename = 'nyc_taxidataset.csv'\n",
    "filename='https://raw.githubusercontent.com/emharsha1812/CCE_Assignment/main/dataset/nyc_taxidataset.csv'\n",
    "df = pd.read_csv(filename,usecols=['passenger_count','trip_distance',\n",
    "'total_amount'],\n",
    "dtype={'total_amount':np.float64})\n",
    "\n",
    "\n",
    "# Task 1.2.2 & Task 1.2.3\n",
    "def get_average_cost_descending_sort(df):\n",
    "    \"\"\"Arguments- df:Dataframe\n",
    "    \n",
    "    Returns\n",
    "    tuple of float - (avg_desc,avg_asc) : (rounded of two integers)\n",
    "    \"\"\"\n",
    "    avg_desc=df.sort_values(by='trip_distance', ascending=False).head(50)\n",
    "    avg_asc=avg_desc['total_amount'].mean()\n",
    "    return (avg_desc,avg_asc)\n",
    "\n",
    "def get_price_top50_rides(df):\n",
    "    \"\"\"Arguments df:Dataframe\n",
    "    Returns\n",
    "    float - rounded to two integers\n",
    "    \"\"\"\n",
    "    df_top50 = df.sort_values(by='total_amount', ascending=False).head(50)\n",
    "    avg_price_rides=df_top50['total_amount'].mean()\n",
    "    return avg_price_rides\n",
    "\n",
    "\n",
    "get_average_cost_ans=get_average_cost_descending_sort(df)\n",
    "get_avg_price_top50_ans=get_price_top50_rides(df)"
   ]
  },
  {
   "cell_type": "markdown",
   "metadata": {},
   "source": [
    "#### Task 1.3 - The goal of this exercise is to group the data according to the below conditions\n",
    "1. Load taxi data from January 2019 into a data frame using only the columns passenger_count, trip_distance, and total_amount.\n",
    "2. For each number of passengers, find the mean cost of a taxi ride. Sort this result from lowest (i.e., cheapest) to highest (i.e., most expensive). Return the topmost value (use .head(1))\n",
    "Sort the results again by increasing the number of passengers. Return the topmost value (use .head(1))\n",
    "3. Create a new column, trip_distance_group, in which the values are short (< 2\n",
    "miles), medium (>= 2 miles and <= 10 miles), and long (> 10 miles). What is the\n",
    "average number of passengers per trip length category? Sort this result from\n",
    "highest (most passengers) to lowest (fewest passengers). "
   ]
  },
  {
   "cell_type": "code",
   "execution_count": 12,
   "metadata": {},
   "outputs": [
    {
     "name": "stdout",
     "output_type": "stream",
     "text": [
      "Mean Cost: 15.676112611261127\n",
      "Count with lowest average fare: 1\n",
      "trip_length_category\n",
      "short_distance     1.749334\n",
      "medium_distance    1.788854\n",
      "long_distance      1.734139\n",
      "Name: passenger_count, dtype: float64\n"
     ]
    },
    {
     "name": "stderr",
     "output_type": "stream",
     "text": [
      "/tmp/ipykernel_10471/3868134459.py:48: FutureWarning: The default of observed=False is deprecated and will be changed to True in a future version of pandas. Pass observed=False to retain current behavior or observed=True to adopt the future default and silence this warning.\n",
      "  avg_passenger_per_category = df.groupby('trip_length_category')['passenger_count'].mean()\n"
     ]
    }
   ],
   "source": [
    "filename='https://raw.githubusercontent.com/emharsha1812/CCE_Assignment/main/dataset/nyc_taxidataset.csv'\n",
    "df = pd.read_csv(filename,usecols=['passenger_count','trip_distance','total_amount'])\n",
    "# print(df)\n",
    "def get_mean_cost(df):\n",
    "    \"\"\"Parameters\n",
    "    df - Dataframe\n",
    "    \n",
    "    Returns\n",
    "    mean_cost : int\"\"\"\n",
    "    #Write your code below\n",
    "    mean_cost = df['total_amount'].mean()\n",
    "    return mean_cost\n",
    "\n",
    "\n",
    "def get_lowest_average_fare(df):\n",
    "    \"\"\"\n",
    "    Find the passenger count with the lowest average total fare.\n",
    "\n",
    "    Args:\n",
    "    df (pandas.DataFrame): A DataFrame containing 'passenger_count' and 'total_amount' columns.\n",
    "\n",
    "    Returns:\n",
    "    pandas.Series: A Series with one row, containing the passenger count with the lowest average fare.\n",
    "    \"\"\"\n",
    "\n",
    "    avg_fare_per_passenger = df.groupby('passenger_count')['total_amount'].mean()\n",
    "    \n",
    "    lowest_avg_fare_passenger = avg_fare_per_passenger.idxmin()\n",
    "    \n",
    "    return lowest_avg_fare_passenger\n",
    "\n",
    "\n",
    "def get_trip_length_category(df):\n",
    "    \"\"\"\n",
    "    Find the average number of passengers per trip length category\n",
    "\n",
    "    Args:\n",
    "    df (pandas.DataFrame): A DataFrame containing 'passenger_count' and 'total_amount' columns.\n",
    "\n",
    "    Returns:\n",
    "    pandas.Series: A Series with three rows. displaying values of trip distance (short, medium, long).\n",
    "    \"\"\"\n",
    "    bins = [0, 2, 10, np.inf]  \n",
    "    labels = ['short_distance', 'medium_distance', 'long_distance']\n",
    "    \n",
    "    df['trip_length_category'] = pd.cut(df['trip_distance'], bins=bins, labels=labels, right=False)\n",
    "    \n",
    "    avg_passenger_per_category = df.groupby('trip_length_category')['passenger_count'].mean()\n",
    "    \n",
    "    return avg_passenger_per_category\n",
    "\n",
    "mean_cost_ans=get_mean_cost(df)\n",
    "print(\"Mean Cost:\",mean_cost_ans)\n",
    "lowest_average_fare_ans=get_lowest_average_fare(df)\n",
    "print(\"Count with lowest average fare:\", lowest_average_fare_ans)\n",
    "trip_length_category_ans=get_trip_length_category(df)\n",
    "print(trip_length_category_ans)"
   ]
  }
 ],
 "metadata": {
  "kernelspec": {
   "display_name": "Python 3",
   "language": "python",
   "name": "python3"
  },
  "language_info": {
   "codemirror_mode": {
    "name": "ipython",
    "version": 3
   },
   "file_extension": ".py",
   "mimetype": "text/x-python",
   "name": "python",
   "nbconvert_exporter": "python",
   "pygments_lexer": "ipython3",
   "version": "3.12.1"
  }
 },
 "nbformat": 4,
 "nbformat_minor": 2
}
