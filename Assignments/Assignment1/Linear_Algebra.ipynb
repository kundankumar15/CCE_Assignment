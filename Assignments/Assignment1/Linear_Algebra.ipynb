{
 "cells": [
  {
   "cell_type": "markdown",
   "metadata": {},
   "source": [
    "## Linear Algebra and Calculus Assignment\n",
    "##### Introduction\n",
    "This assignment covers three main topics: Linear Algebra, Calculus, and Data Processing and visualisation techniques. You will implement Principal Component Analysis (PCA) for image compression and a basic gradient descent algorithm for linear regression. After that you will work on solving problems posed on tabular data with the help of pandas library.\n",
    "### Part 1: Linear Algebra - Principal Component Analysis (PCA)\n",
    "Problem Statement - **Implement PCA to compress a grayscale image**  \n",
    "Break down the PCA algorithm into the following steps:\n",
    "\n",
    "1. Load and preprocess the image\n",
    "2. Compute the covariance matrix\n",
    "3. Compute eigenvectors and eigenvalues\n",
    "4. Select top k eigenvectors\n",
    "5. Project the data onto the new subspace\n",
    "6. Reconstruct the compressed image\n",
    "7. Bring it all together in the main function\n",
    "\n",
    "\n",
    "<div>\n",
    "  <a href=\"https://colab.research.google.com/github/emharsha1812/CCE_Assignment/blob/main/Assignments/Linear_Algebra.ipynb\" target=\"_parent\">\n",
    "    <img src=\"https://colab.research.google.com/assets/colab-badge.svg\" alt=\"Open In Colab\"/>\n",
    "  </a>\n",
    "</div>"
   ]
  },
  {
   "cell_type": "code",
   "execution_count": 1,
   "metadata": {},
   "outputs": [
    {
     "name": "stdout",
     "output_type": "stream",
     "text": [
      "Collecting scikit-learn\n",
      "  Downloading scikit_learn-1.5.2-cp312-cp312-manylinux_2_17_x86_64.manylinux2014_x86_64.whl.metadata (13 kB)\n",
      "Requirement already satisfied: numpy>=1.19.5 in /workspaces/CCE_Assignment/.venv/lib/python3.12/site-packages (from scikit-learn) (2.1.1)\n",
      "Collecting scipy>=1.6.0 (from scikit-learn)\n",
      "  Downloading scipy-1.14.1-cp312-cp312-manylinux_2_17_x86_64.manylinux2014_x86_64.whl.metadata (60 kB)\n",
      "Collecting joblib>=1.2.0 (from scikit-learn)\n",
      "  Downloading joblib-1.4.2-py3-none-any.whl.metadata (5.4 kB)\n",
      "Collecting threadpoolctl>=3.1.0 (from scikit-learn)\n",
      "  Downloading threadpoolctl-3.5.0-py3-none-any.whl.metadata (13 kB)\n",
      "Downloading scikit_learn-1.5.2-cp312-cp312-manylinux_2_17_x86_64.manylinux2014_x86_64.whl (12.9 MB)\n",
      "\u001b[2K   \u001b[90m━━━━━━━━━━━━━━━━━━━━━━━━━━━━━━━━━━━━━━━━\u001b[0m \u001b[32m12.9/12.9 MB\u001b[0m \u001b[31m43.6 MB/s\u001b[0m eta \u001b[36m0:00:00\u001b[0m:00:01\u001b[0m\n",
      "\u001b[?25hDownloading joblib-1.4.2-py3-none-any.whl (301 kB)\n",
      "Downloading scipy-1.14.1-cp312-cp312-manylinux_2_17_x86_64.manylinux2014_x86_64.whl (40.8 MB)\n",
      "\u001b[2K   \u001b[90m━━━━━━━━━━━━━━━━━━━━━━━━━━━━━━━━━━━━━━━━\u001b[0m \u001b[32m40.8/40.8 MB\u001b[0m \u001b[31m69.1 MB/s\u001b[0m eta \u001b[36m0:00:00\u001b[0m:00:01\u001b[0m\n",
      "\u001b[?25hDownloading threadpoolctl-3.5.0-py3-none-any.whl (18 kB)\n",
      "Installing collected packages: threadpoolctl, scipy, joblib, scikit-learn\n",
      "Successfully installed joblib-1.4.2 scikit-learn-1.5.2 scipy-1.14.1 threadpoolctl-3.5.0\n"
     ]
    }
   ],
   "source": [
    "! pip install -U scikit-learn"
   ]
  },
  {
   "cell_type": "markdown",
   "metadata": {},
   "source": [
    "### 1.0 Loading and preprocessing the image  \n",
    "\n",
    "**Already Done**  Load a grayscale image using an appropriate library  \n",
    "**Already Done**: Reshape the image into a 2D array where each row represents a pixel"
   ]
  },
  {
   "cell_type": "code",
   "execution_count": 2,
   "metadata": {},
   "outputs": [
    {
     "data": {
      "image/png": "[encoded data removed]",
      "text/plain": [
       "<Figure size 640x480 with 1 Axes>"
      ]
     },
     "metadata": {},
     "output_type": "display_data"
    },
    {
     "name": "stdout",
     "output_type": "stream",
     "text": [
      "Original image shape: (8, 8)\n",
      "Total number of pixels: 64\n"
     ]
    }
   ],
   "source": [
    "# IMP - We've provided the code to load and preprocess the image data. You don't need to modify this section.\n",
    "\n",
    "import numpy as np\n",
    "import matplotlib.pyplot as plt\n",
    "from sklearn.datasets import load_digits\n",
    "\n",
    "# Load the digits dataset\n",
    "digits = load_digits()\n",
    "X = digits.data\n",
    "y = digits.target\n",
    "\n",
    "# Reshape the first image\n",
    "image = X[0].reshape(8, 8)\n",
    "\n",
    "# Display the original image\n",
    "plt.imshow(image, cmap='gray')\n",
    "plt.title('Original Image')\n",
    "plt.show()\n",
    "\n",
    "print(f\"Original image shape: {image.shape}\")\n",
    "print(f\"Total number of pixels: {image.size}\")"
   ]
  },
  {
   "cell_type": "markdown",
   "metadata": {},
   "source": [
    "### 1.1 Compute the covariance matrix\n",
    "\n",
    "**TODO**: Center the data by subtracting the mean of each feature  \n",
    "**TODO**: Compute the covariance matrix of the centered data"
   ]
  },
  {
   "cell_type": "code",
   "execution_count": 3,
   "metadata": {},
   "outputs": [
    {
     "name": "stdout",
     "output_type": "stream",
     "text": [
      "Covariance matrix shape: (64, 64)\n"
     ]
    }
   ],
   "source": [
    "# 1.1 Compute the covariance matrix\n",
    "def compute_covariance_matrix(X):\n",
    "    \"\"\"\n",
    "    Compute the covariance matrix for the input data.\n",
    "    \n",
    "    Args:\n",
    "    X (numpy.ndarray): Input data matrix\n",
    "    \n",
    "    Returns:\n",
    "    numpy.ndarray: Covariance matrix\n",
    "    \"\"\"\n",
    "    # TODO: Implement the covariance matrix calculation\n",
    "    # Hint: Remember to center the data by subtracting the mean\n",
    "    # Avoid division by zero by adding a small epsilon value\n",
    "    X_centered = X - np.mean(X, axis=0)\n",
    "    n_samples = X.shape[0]\n",
    "    covariance_matrix = (1 / (n_samples - 1)) * np.dot(X_centered.T, X_centered)\n",
    "    \n",
    "    return covariance_matrix\n",
    "\n",
    "X = digits.data\n",
    "cov_matrix = compute_covariance_matrix(X)\n",
    "\n",
    "print(\"Covariance matrix shape:\", cov_matrix.shape)\n"
   ]
  },
  {
   "cell_type": "markdown",
   "metadata": {},
   "source": [
    "\n",
    "### 1.2 Compute eigenvectors and eigenvalues\n",
    "\n",
    "**TODO**: Implement a function to compute eigenvectors and eigenvalues of the covariance matrix  \n",
    "**Hint**: You can use NumPy's linalg.eig function, but try to implement it yourself for learning purposes"
   ]
  },
  {
   "cell_type": "code",
   "execution_count": 4,
   "metadata": {},
   "outputs": [],
   "source": [
    "# 1.2 Compute eigenvectors and eigenvalues\n",
    "def compute_eigenvectors_eigenvalues(cov_matrix):\n",
    "    \"\"\"\n",
    "    Compute the eigenvectors and eigenvalues of the covariance matrix.\n",
    "    \n",
    "    Args:\n",
    "    cov_matrix (numpy.ndarray): Covariance matrix\n",
    "    \n",
    "    Returns:\n",
    "    tuple: (eigenvalues, eigenvectors)\n",
    "    \"\"\"\n",
    "    # TODO: Implement eigenvector and eigenvalue calculation\n",
    "    # Hint: Use numpy.linalg.eigh() for symmetric matrices\n",
    "    eigenvalues, eigenvectors = np.linalg.eigh(cov_matrix)\n",
    "    sorted_indices = np.argsort(eigenvalues)[::-1]\n",
    "    eigenvalues = eigenvalues[sorted_indices]\n",
    "    eigenvectors = eigenvectors[:, sorted_indices]\n",
    "    \n",
    "    return eigenvalues, eigenvectors"
   ]
  },
  {
   "cell_type": "markdown",
   "metadata": {},
   "source": [
    "\n",
    "### 1.3 Select top k eigenvectors\n",
    "\n",
    "**TODO**: Implement a function to select the top k eigenvectors based on their corresponding eigenvalues  \n",
    "**TODO**: Create a projection matrix using these eigenvectors"
   ]
  },
  {
   "cell_type": "code",
   "execution_count": 5,
   "metadata": {},
   "outputs": [],
   "source": [
    "# 1.3 Select top k eigenvectors\n",
    "def select_top_k_eigenvectors(eigenvalues, eigenvectors, k):\n",
    "    \"\"\"\n",
    "    Select the top k eigenvectors based on eigenvalues.\n",
    "    \n",
    "    Args:\n",
    "    eigenvalues (numpy.ndarray): Array of eigenvalues\n",
    "    eigenvectors (numpy.ndarray): Matrix of eigenvectors\n",
    "    k (int): Number of top eigenvectors to select\n",
    "    \n",
    "    Returns:\n",
    "    numpy.ndarray: Top k eigenvectors\n",
    "    \"\"\"\n",
    "    # TODO: Implement the selection of top k eigenvectors\n",
    "    # Hint: Sort eigenvalues and select corresponding eigenvectors\n",
    "    k = min(k, eigenvectors.shape[1])\n",
    "\n",
    "    sorted_indices = np.argsort(eigenvalues)[::-1]\n",
    "    top_k_indices = sorted_indices[:k]\n",
    "    top_k_eigenvectors = eigenvectors[:, top_k_indices]\n",
    "    \n",
    "    return top_k_eigenvectors"
   ]
  },
  {
   "cell_type": "markdown",
   "metadata": {},
   "source": [
    "\n",
    "### 1.4 Project the data onto the new subspace\n",
    "\n",
    "**TODO**: Project the centered data onto the new subspace defined by the top k eigenvectors  "
   ]
  },
  {
   "cell_type": "code",
   "execution_count": 6,
   "metadata": {},
   "outputs": [],
   "source": [
    "# 1.4 Project the data onto the new subspace\n",
    "def project_data(X, eigenvectors):\n",
    "    \"\"\"\n",
    "    Project the data onto the new subspace defined by the eigenvectors.\n",
    "    \n",
    "    Args:\n",
    "    X (numpy.ndarray): Input data matrix\n",
    "    eigenvectors (numpy.ndarray): Matrix of selected eigenvectors\n",
    "    \n",
    "    Returns:\n",
    "    numpy.ndarray: Projected data\n",
    "    \"\"\"\n",
    "    # TODO: Implement the data projection\n",
    "    # Hint: Center the data and then project it onto the eigenvectors\n",
    "    X_centered = X - np.mean(X, axis=0)\n",
    "    projected_data = np.dot(X_centered, eigenvectors)\n",
    "    \n",
    "    return projected_data"
   ]
  },
  {
   "cell_type": "markdown",
   "metadata": {},
   "source": [
    "### 1.5 Reconstruct the compressed image\n",
    "\n",
    "**TODO**: Implement a function to reconstruct the compressed image from the projected data  "
   ]
  },
  {
   "cell_type": "code",
   "execution_count": 7,
   "metadata": {},
   "outputs": [],
   "source": [
    "\n",
    "# 1.5 Reconstruct the compressed image\n",
    "def reconstruct_image(X_projected, eigenvectors, original_mean):\n",
    "    \"\"\"\n",
    "    Reconstruct the compressed image from the projected data.\n",
    "    \n",
    "    Args:\n",
    "    X_projected (numpy.ndarray): Projected data\n",
    "    eigenvectors (numpy.ndarray): Matrix of selected eigenvectors\n",
    "    original_mean (numpy.ndarray): Mean of the original data\n",
    "    \n",
    "    Returns:\n",
    "    numpy.ndarray: Reconstructed data\n",
    "    \"\"\"\n",
    "    # TODO: Implement the image reconstruction\n",
    "    # Hint: Project back to the original space and add the mean\n",
    "    X_reconstructed = np.dot(X_projected, eigenvectors.T)\n",
    "    X_reconstructed += original_mean\n",
    "    \n",
    "    return X_reconstructed"
   ]
  },
  {
   "cell_type": "markdown",
   "metadata": {},
   "source": [
    "### 1.6 Complete the main function"
   ]
  },
  {
   "cell_type": "code",
   "execution_count": 8,
   "metadata": {},
   "outputs": [],
   "source": [
    "# Main PCA function\n",
    "def perform_pca(X, k):\n",
    "    \"\"\"\n",
    "    Perform PCA on the input data.\n",
    "    \n",
    "    Args:\n",
    "    X (numpy.ndarray): Input data matrix\n",
    "    k (int): Number of principal components to keep\n",
    "    \n",
    "    Returns:\n",
    "    tuple: (compressed_data, reconstructed_data, eigenvectors)\n",
    "    \"\"\"\n",
    "    # TODO: Implement the main PCA function using the helper functions above\n",
    "    # 1. Compute the covariance matrix\n",
    "    # 2. Compute eigenvectors and eigenvalues\n",
    "    # 3. Select top k eigenvectors\n",
    "    # 4. Project the data\n",
    "    # 5. Reconstruct the data\n",
    "    cov_matrix = compute_covariance_matrix(X)\n",
    "\n",
    "    eigenvalues, eigenvectors = compute_eigenvectors_eigenvalues(cov_matrix)\n",
    "\n",
    "    top_k_eigenvectors = select_top_k_eigenvectors(eigenvalues, eigenvectors, k)\n",
    "\n",
    "    compressed_data = project_data(X, top_k_eigenvectors)\n",
    "\n",
    "    original_mean = np.mean(X, axis=0)\n",
    "    reconstructed_data = reconstruct_image(compressed_data, top_k_eigenvectors, original_mean)\n",
    "    \n",
    "    return compressed_data, reconstructed_data, top_k_eigenvectors"
   ]
  },
  {
   "cell_type": "code",
   "execution_count": 9,
   "metadata": {},
   "outputs": [
    {
     "data": {
      "image/png": "[encoded data removed]",
      "text/plain": [
       "<Figure size 1000x500 with 2 Axes>"
      ]
     },
     "metadata": {},
     "output_type": "display_data"
    },
    {
     "data": {
      "image/png": "[encoded data removed]",
      "text/plain": [
       "<Figure size 640x480 with 1 Axes>"
      ]
     },
     "metadata": {},
     "output_type": "display_data"
    }
   ],
   "source": [
    "# Test the implementation\n",
    "k = 3  # Number of principal components to keep\n",
    "compressed_data, reconstructed_data, eigenvectors = perform_pca(X, k)\n",
    "\n",
    "# Visualize the results\n",
    "plt.figure(figsize=(10, 5))\n",
    "plt.subplot(1, 2, 1)\n",
    "plt.imshow(X[0].reshape(8, 8), cmap='gray')\n",
    "plt.title('Original Image')\n",
    "plt.subplot(1, 2, 2)\n",
    "plt.imshow(reconstructed_data[0].reshape(8, 8), cmap='gray')\n",
    "plt.title(f'Reconstructed Image (k={k})')\n",
    "plt.show()\n",
    "\n",
    "# Bonus: Determine optimal number of principal components\n",
    "def explained_variance_ratio(eigenvalues):\n",
    "    return eigenvalues / np.sum(eigenvalues)\n",
    "\n",
    "# Plot the cumulative explained variance ratio vs. number of components\n",
    "cov_matrix = compute_covariance_matrix(X)\n",
    "eigenvalues, _ = compute_eigenvectors_eigenvalues(cov_matrix)\n",
    "evr = explained_variance_ratio(eigenvalues)\n",
    "cumulative_evr = np.cumsum(evr)\n",
    "\n",
    "plt.plot(range(1, len(cumulative_evr) + 1), cumulative_evr)\n",
    "plt.xlabel('Number of Components')\n",
    "plt.ylabel('Cumulative Explained Variance Ratio')\n",
    "plt.title('Explained Variance Ratio vs. Number of Components')\n",
    "plt.show()"
   ]
  }
 ],
 "metadata": {
  "kernelspec": {
   "display_name": "Python 3",
   "language": "python",
   "name": "python3"
  },
  "language_info": {
   "codemirror_mode": {
    "name": "ipython",
    "version": 3
   },
   "file_extension": ".py",
   "mimetype": "text/x-python",
   "name": "python",
   "nbconvert_exporter": "python",
   "pygments_lexer": "ipython3",
   "version": "3.12.1"
  }
 },
 "nbformat": 4,
 "nbformat_minor": 2
}
